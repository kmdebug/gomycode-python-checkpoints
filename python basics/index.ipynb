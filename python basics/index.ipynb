{
 "cells": [
  {
   "cell_type": "markdown",
   "metadata": {},
   "source": [
    "## Python Guess Game"
   ]
  },
  {
   "cell_type": "code",
   "execution_count": 7,
   "metadata": {},
   "outputs": [],
   "source": [
    "import sys\n",
    "import time\n",
    "from random import randint"
   ]
  },
  {
   "cell_type": "code",
   "execution_count": 8,
   "metadata": {},
   "outputs": [],
   "source": [
    "def generate_random_number(a: int, b: int) -> int:\n",
    "    ret = randint(a, b)\n",
    "    return ret"
   ]
  },
  {
   "cell_type": "code",
   "execution_count": 9,
   "metadata": {},
   "outputs": [],
   "source": [
    "def prompt_user_guess() -> int:\n",
    "    while True:\n",
    "        try:\n",
    "            user_in = int(input('Enter your guess: '))\n",
    "            return user_in\n",
    "        except ValueError:\n",
    "            print(\n",
    "                \"Oops! That doesn't look like a number. Please enter a valid number.\")\n",
    "            sys.stdout.flush()\n",
    "            time.sleep(1)"
   ]
  },
  {
   "cell_type": "code",
   "execution_count": 10,
   "metadata": {},
   "outputs": [],
   "source": [
    "def evaluate_user_guess(user_guess: int, target_number: int) -> tuple[str, bool]:\n",
    "    notification: str = None\n",
    "\n",
    "    if user_guess == target_number:\n",
    "        notification = \"Congratulations! You guessed it right!\", True\n",
    "        return notification\n",
    "    elif user_guess > target_number:\n",
    "        notification = \"Your guess is too high. Try again!\"\n",
    "        return notification, False\n",
    "    else:\n",
    "        notification = \"Your guess is too low. Try again!\"\n",
    "        return notification, False"
   ]
  },
  {
   "cell_type": "code",
   "execution_count": 11,
   "metadata": {},
   "outputs": [],
   "source": [
    "def main() -> None:\n",
    "    print(\"Welcome to the Guess the Number Game!\")\n",
    "\n",
    "    time.sleep(1)\n",
    "\n",
    "    print(\"I'm thinking of a number between 1 and 100. Can you guess what it is?\")\n",
    "\n",
    "    time.sleep(1)\n",
    "\n",
    "    print(\"You have 5 shots. Take your time, and good luck!\")\n",
    "\n",
    "    time.sleep(2)\n",
    "\n",
    "    target_number = generate_random_number(1, 100)\n",
    "\n",
    "    attempts = 0\n",
    "    max_attempts = 5\n",
    "\n",
    "    while attempts < max_attempts:\n",
    "        user_guess = prompt_user_guess()\n",
    "\n",
    "        notification, is_correct = evaluate_user_guess(\n",
    "            user_guess, target_number)\n",
    "\n",
    "        print(notification)\n",
    "\n",
    "        if (is_correct):\n",
    "            break\n",
    "\n",
    "        attempts += 1\n",
    "\n",
    "    if not is_correct:\n",
    "        print(\n",
    "            f\"Sorry, you've used all your attempts. The correct number was {target_number}. Better luck next time!\")\n"
   ]
  },
  {
   "cell_type": "code",
   "execution_count": null,
   "metadata": {},
   "outputs": [],
   "source": [
    "if __name__ == \"__main__\":\n",
    "    main()"
   ]
  }
 ],
 "metadata": {
  "kernelspec": {
   "display_name": "Python 3",
   "language": "python",
   "name": "python3"
  },
  "language_info": {
   "codemirror_mode": {
    "name": "ipython",
    "version": 3
   },
   "file_extension": ".py",
   "mimetype": "text/x-python",
   "name": "python",
   "nbconvert_exporter": "python",
   "pygments_lexer": "ipython3",
   "version": "3.10.6"
  }
 },
 "nbformat": 4,
 "nbformat_minor": 2
}
