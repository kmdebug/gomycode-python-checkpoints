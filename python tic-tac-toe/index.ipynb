{
 "cells": [
  {
   "cell_type": "code",
   "execution_count": 1,
   "metadata": {},
   "outputs": [],
   "source": [
    "import tkinter as tk\n",
    "from tkinter import messagebox"
   ]
  },
  {
   "cell_type": "code",
   "execution_count": 2,
   "metadata": {},
   "outputs": [],
   "source": [
    "BOARD_SIZE = 3\n",
    "EMPTY = \"\"\n",
    "PLAYER_X = \"X\"\n",
    "PLAYER_O = \"O\""
   ]
  },
  {
   "cell_type": "code",
   "execution_count": 3,
   "metadata": {},
   "outputs": [],
   "source": [
    "current_player = PLAYER_X\n",
    "board = [[EMPTY for _ in range(BOARD_SIZE)] for _ in range(BOARD_SIZE)]"
   ]
  },
  {
   "cell_type": "code",
   "execution_count": 4,
   "metadata": {},
   "outputs": [],
   "source": [
    "def check_winner():\n",
    "    for row in board:\n",
    "        if all([cell == current_player for cell in row]):\n",
    "            return True\n",
    "    \n",
    "    for col in range(BOARD_SIZE):\n",
    "        if all([board[row][col] == current_player for row in range(BOARD_SIZE)]):\n",
    "            return True\n",
    "    \n",
    "    if all([board[i][i] == current_player for i in range(BOARD_SIZE)]):\n",
    "        return True\n",
    "    if all([board[i][BOARD_SIZE - 1 - i] == current_player for i in range(BOARD_SIZE)]):\n",
    "        return True\n",
    "    \n",
    "    return False"
   ]
  },
  {
   "cell_type": "code",
   "execution_count": 5,
   "metadata": {},
   "outputs": [],
   "source": [
    "def on_click(row, col):\n",
    "    global current_player\n",
    "    \n",
    "    if board[row][col] == EMPTY:\n",
    "        board[row][col] = current_player\n",
    "        buttons[row][col].config(text=current_player)\n",
    "        \n",
    "        if check_winner():\n",
    "            messagebox.showinfo(\"Tic-Tac-Toe\", f\"Player {current_player} wins!\")\n",
    "            reset_game()\n",
    "        elif all(board[row][col] != EMPTY for row in range(BOARD_SIZE) for col in range(BOARD_SIZE)):\n",
    "            messagebox.showinfo(\"Tic-Tac-Toe\", \"It's a draw!\")\n",
    "            reset_game()\n",
    "        else:\n",
    "            current_player = PLAYER_O if current_player == PLAYER_X else PLAYER_X\n"
   ]
  },
  {
   "cell_type": "code",
   "execution_count": 6,
   "metadata": {},
   "outputs": [],
   "source": [
    "def reset_game():\n",
    "    global current_player, board\n",
    "    current_player = PLAYER_X\n",
    "    board = [[EMPTY for _ in range(BOARD_SIZE)] for _ in range(BOARD_SIZE)]\n",
    "    \n",
    "    for row in range(BOARD_SIZE):\n",
    "        for col in range(BOARD_SIZE):\n",
    "            buttons[row][col].config(text=EMPTY)"
   ]
  },
  {
   "cell_type": "code",
   "execution_count": 7,
   "metadata": {},
   "outputs": [
    {
     "data": {
      "text/plain": [
       "''"
      ]
     },
     "execution_count": 7,
     "metadata": {},
     "output_type": "execute_result"
    }
   ],
   "source": [
    "window = tk.Tk()\n",
    "window.title(\"Tic-Tac-Toe\")"
   ]
  },
  {
   "cell_type": "code",
   "execution_count": 8,
   "metadata": {},
   "outputs": [],
   "source": [
    "buttons = []\n",
    "for row in range(BOARD_SIZE):\n",
    "    button_row = []\n",
    "    for col in range(BOARD_SIZE):\n",
    "        button = tk.Button(window, text=EMPTY, font=('Arial', 20), width=4, height=2,\n",
    "                           command=lambda r=row, c=col: on_click(r, c))\n",
    "        button.grid(row=row, column=col, padx=5, pady=5)\n",
    "        button_row.append(button)\n",
    "    buttons.append(button_row)"
   ]
  },
  {
   "cell_type": "code",
   "execution_count": 9,
   "metadata": {},
   "outputs": [],
   "source": [
    "window.mainloop()"
   ]
  }
 ],
 "metadata": {
  "kernelspec": {
   "display_name": "Python 3",
   "language": "python",
   "name": "python3"
  },
  "language_info": {
   "codemirror_mode": {
    "name": "ipython",
    "version": 3
   },
   "file_extension": ".py",
   "mimetype": "text/x-python",
   "name": "python",
   "nbconvert_exporter": "python",
   "pygments_lexer": "ipython3",
   "version": "3.10.6"
  }
 },
 "nbformat": 4,
 "nbformat_minor": 2
}
