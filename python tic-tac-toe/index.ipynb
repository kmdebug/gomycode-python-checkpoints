{
 "cells": [
  {
   "cell_type": "code",
   "execution_count": 13,
   "metadata": {},
   "outputs": [],
   "source": [
    "import tkinter as tk\n",
    "from functools import partial\n",
    "from tkinter import messagebox"
   ]
  },
  {
   "cell_type": "code",
   "execution_count": 14,
   "metadata": {},
   "outputs": [],
   "source": [
    "def check_winner(board, player):\n",
    "    win_conditions = [\n",
    "        (0, 1, 2), (3, 4, 5), (6, 7, 8),\n",
    "        (0, 3, 6), (1, 4, 7), (2, 5, 8),\n",
    "        (0, 4, 8), (2, 4, 6)\n",
    "    ]\n",
    "    return any(all(board[i] == player for i in condition) for condition in win_conditions)\n"
   ]
  },
  {
   "cell_type": "code",
   "execution_count": 15,
   "metadata": {},
   "outputs": [],
   "source": [
    "def show_result(result):\n",
    "    messagebox.showinfo(\"Game Over\", result)\n",
    "    root.destroy()"
   ]
  },
  {
   "cell_type": "code",
   "execution_count": 16,
   "metadata": {},
   "outputs": [],
   "source": [
    "def update_board(button, index, board, digits, count_var, root):\n",
    "    current_player = 'X' if count_var.get() % 2 == 0 else 'O'\n",
    "    if index in digits:\n",
    "        digits.remove(index)\n",
    "        board[index] = current_player\n",
    "        button.config(text=current_player, state=tk.DISABLED)\n",
    "        count_var.set(count_var.get() + 1)\n",
    "        if check_winner(board, current_player):\n",
    "            show_result(f\"Player {1 if current_player == 'X' else 2} wins!\")\n",
    "        elif count_var.get() > 8:\n",
    "            show_result(\"Match Tied\")\n",
    "        else:\n",
    "            root.title(f\"Tic-Tac-Toe: {'O' if current_player == 'X' else 'X'}'s Turn\")"
   ]
  },
  {
   "cell_type": "code",
   "execution_count": 17,
   "metadata": {},
   "outputs": [],
   "source": [
    "def create_game():\n",
    "    global root\n",
    "    root = tk.Tk()\n",
    "    root.title(\"Tic-Tac-Toe: X's Turn\")\n",
    "    board = ['' for _ in range(9)]\n",
    "    digits = list(range(9))\n",
    "    count_var = tk.IntVar(value=0)\n",
    "    buttons = []\n",
    "\n",
    "    for i in range(9):\n",
    "        button = tk.Button(root, text='', font=('Helvetica', 20), height=3, width=6)\n",
    "        button.config(command=partial(update_board, button, i, board, digits, count_var, root))\n",
    "        button.grid(row=i//3, column=i%3)\n",
    "        buttons.append(button)\n",
    "    \n",
    "    root.mainloop()"
   ]
  },
  {
   "cell_type": "code",
   "execution_count": 19,
   "metadata": {},
   "outputs": [],
   "source": [
    "create_game()"
   ]
  }
 ],
 "metadata": {
  "kernelspec": {
   "display_name": "Python 3",
   "language": "python",
   "name": "python3"
  },
  "language_info": {
   "codemirror_mode": {
    "name": "ipython",
    "version": 3
   },
   "file_extension": ".py",
   "mimetype": "text/x-python",
   "name": "python",
   "nbconvert_exporter": "python",
   "pygments_lexer": "ipython3",
   "version": "3.10.6"
  }
 },
 "nbformat": 4,
 "nbformat_minor": 2
}
