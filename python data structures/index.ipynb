{
 "cells": [
  {
   "cell_type": "markdown",
   "metadata": {},
   "source": [
    "## Question 1:\n",
    "Write a Python program that multiplies all the items in a list."
   ]
  },
  {
   "cell_type": "code",
   "execution_count": 1,
   "metadata": {},
   "outputs": [
    {
     "name": "stdout",
     "output_type": "stream",
     "text": [
      "36\n"
     ]
    }
   ],
   "source": [
    "def multiplier(items):\n",
    "    ret = 1\n",
    "    for item in items:\n",
    "        ret *= item\n",
    "    return ret\n",
    "\n",
    "sample_list = [2, 3, 6]\n",
    "\n",
    "print(multiplier(sample_list))"
   ]
  },
  {
   "cell_type": "markdown",
   "metadata": {},
   "source": [
    "## Question 2:\n",
    "Write a Python program to get a list, sorted in increasing order by the last element in each tuple, from a given list of non-empty tuples."
   ]
  },
  {
   "cell_type": "code",
   "execution_count": 2,
   "metadata": {},
   "outputs": [
    {
     "name": "stdout",
     "output_type": "stream",
     "text": [
      "[(2, 1), (1, 2), (2, 3), (4, 4), (2, 5)]\n"
     ]
    }
   ],
   "source": [
    "def sort_by_last_element(tuple_items):\n",
    "    ret = sorted(tuple_items, key=lambda x: x[-1])\n",
    "    return ret\n",
    "\n",
    "sample_list = [(2, 5), (1, 2), (4, 4), (2, 3), (2, 1)]\n",
    "\n",
    "print(sort_by_last_element(sample_list))"
   ]
  },
  {
   "cell_type": "markdown",
   "metadata": {},
   "source": [
    "## Question 3:\n",
    "Write a Python program that combines two dictionaries by adding values for common keys."
   ]
  },
  {
   "cell_type": "code",
   "execution_count": 3,
   "metadata": {},
   "outputs": [
    {
     "name": "stdout",
     "output_type": "stream",
     "text": [
      "{'b': 400, 'a': 400, 'd': 400, 'c': 300}\n"
     ]
    }
   ],
   "source": [
    "def combine_dicts(in_dict, nx_dict):\n",
    "    ret = { key: in_dict.get(key, 0) + nx_dict.get(key, 0) for key in set(in_dict) | set(nx_dict) }\n",
    "    \n",
    "    return ret\n",
    "\n",
    "in_dict = {'a': 100, 'b': 200, 'c': 300}\n",
    "nx_dict = {'a': 300, 'b': 200, 'd': 400}\n",
    "\n",
    "print(combine_dicts(in_dict, nx_dict))"
   ]
  },
  {
   "cell_type": "markdown",
   "metadata": {},
   "source": [
    "## Question 4:\n",
    "With a given integral number n, write a program to generate a dictionary that contains (i, i*i) so that is an integral number between 1 and n (both included). Then the program should print the dictionary."
   ]
  },
  {
   "cell_type": "code",
   "execution_count": 4,
   "metadata": {},
   "outputs": [
    {
     "name": "stdout",
     "output_type": "stream",
     "text": [
      "{1: 1, 2: 4, 3: 9, 4: 16, 5: 25, 6: 36, 7: 49, 8: 64}\n"
     ]
    }
   ],
   "source": [
    "def generate_square_dict(n):\n",
    "    ret = {i: i * i for i in range(1, n + 1)}\n",
    "    \n",
    "    return ret\n",
    "\n",
    "n = 8\n",
    "\n",
    "print(generate_square_dict(n))"
   ]
  },
  {
   "cell_type": "markdown",
   "metadata": {},
   "source": [
    "## Question 5:\n",
    "Write a program to sort a tuple by its float element."
   ]
  },
  {
   "cell_type": "code",
   "execution_count": 9,
   "metadata": {},
   "outputs": [
    {
     "name": "stdout",
     "output_type": "stream",
     "text": [
      "[('item3', '24.5'), ('item2', '15.10'), ('item1', '12.20')]\n"
     ]
    }
   ],
   "source": [
    "def sort_by_float(tuple_items):\n",
    "    ret = sorted(tuple_items, key=lambda x: float(x[1]), reverse=True)\n",
    "    \n",
    "    return ret\n",
    "\n",
    "sample_tuple_list = [('item1', '12.20'), ('item2', '15.10'), ('item3', '24.5')]\n",
    "\n",
    "print(sort_by_float(sample_tuple_list))"
   ]
  },
  {
   "cell_type": "markdown",
   "metadata": {},
   "source": [
    "## Question 5:\n",
    "Write a Python program to create a set."
   ]
  },
  {
   "cell_type": "code",
   "execution_count": 10,
   "metadata": {},
   "outputs": [
    {
     "name": "stdout",
     "output_type": "stream",
     "text": [
      "0\n",
      "1\n",
      "2\n",
      "3\n",
      "4\n",
      "{0, 1, 2, 3, 4, 5}\n",
      "{0, 1, 3, 4, 5}\n"
     ]
    }
   ],
   "source": [
    "sample_set = {0, 1, 2, 3, 4}\n",
    "\n",
    "for item in sample_set:\n",
    "    print(item)\n",
    "    \n",
    "sample_set.add(5)\n",
    "\n",
    "print(sample_set)\n",
    "\n",
    "sample_set.remove(2)\n",
    "\n",
    "print(sample_set)"
   ]
  }
 ],
 "metadata": {
  "kernelspec": {
   "display_name": "Python 3",
   "language": "python",
   "name": "python3"
  },
  "language_info": {
   "codemirror_mode": {
    "name": "ipython",
    "version": 3
   },
   "file_extension": ".py",
   "mimetype": "text/x-python",
   "name": "python",
   "nbconvert_exporter": "python",
   "pygments_lexer": "ipython3",
   "version": "3.10.6"
  }
 },
 "nbformat": 4,
 "nbformat_minor": 2
}
