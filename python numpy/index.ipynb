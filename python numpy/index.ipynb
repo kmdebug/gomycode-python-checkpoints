{
 "cells": [
  {
   "cell_type": "code",
   "execution_count": 11,
   "metadata": {},
   "outputs": [],
   "source": [
    "import numpy as np"
   ]
  },
  {
   "cell_type": "code",
   "execution_count": 13,
   "metadata": {},
   "outputs": [],
   "source": [
    "def get_number(prompt):\n",
    "    while True:\n",
    "        try:\n",
    "            value = int(input(prompt))\n",
    "            if value > 0:\n",
    "                return value\n",
    "            else:\n",
    "                print(\"Please enter a positive number\")\n",
    "        except ValueError:\n",
    "            print(\"Invalid input. Please enter a number\")"
   ]
  },
  {
   "cell_type": "code",
   "execution_count": 14,
   "metadata": {},
   "outputs": [],
   "source": [
    "def get_marks(students, subjects):\n",
    "    marks = np.zeros((students, subjects))\n",
    "    for i in range(students):\n",
    "        print(f\"Enter marks for student {i + 1}:\")\n",
    "        \n",
    "        for j in range(subjects):\n",
    "            marks[i, j] = get_number(f\"Subject {j + 1}: \")\n",
    "    return marks"
   ]
  },
  {
   "cell_type": "code",
   "execution_count": 15,
   "metadata": {},
   "outputs": [],
   "source": [
    "def calculate_totals(marks):\n",
    "    ret = marks.sum(axis=1)\n",
    "    return ret"
   ]
  },
  {
   "cell_type": "code",
   "execution_count": 16,
   "metadata": {},
   "outputs": [],
   "source": [
    "def calculate_percentages(marks, subjects):\n",
    "    ret = (marks / (subjects * 100)) * 100\n",
    "    return ret"
   ]
  },
  {
   "cell_type": "code",
   "execution_count": 17,
   "metadata": {},
   "outputs": [],
   "source": [
    "def check_grade(percentage):\n",
    "    if percentage >= 90:\n",
    "        return 'A+'\n",
    "    elif percentage >= 80:\n",
    "        return 'A'\n",
    "    elif percentage >= 70:\n",
    "        return 'B+'\n",
    "    elif percentage >= 60:\n",
    "        return 'B'\n",
    "    elif percentage >= 50:\n",
    "        return 'C'\n",
    "    else:\n",
    "        return 'F'"
   ]
  },
  {
   "cell_type": "code",
   "execution_count": 18,
   "metadata": {},
   "outputs": [],
   "source": [
    "def assign_grades(percentages):\n",
    "    return np.array([check_grade(p) for p in percentages])"
   ]
  },
  {
   "cell_type": "code",
   "execution_count": 19,
   "metadata": {},
   "outputs": [],
   "source": [
    "def display_results(students, marks, percentages, grades):\n",
    "    print(\"\\nResults:\")\n",
    "    print(f\"{'Student':<10}{'Total Marks':<15}{'Percentage':<15}{'Grade':<10}\")\n",
    "    for i in range(students):\n",
    "        print(f\"{i + 1:<10}{marks[i]:<15}{percentages[i]:<15.2f}{grades[i]:<10}\")"
   ]
  },
  {
   "cell_type": "code",
   "execution_count": 21,
   "metadata": {},
   "outputs": [
    {
     "name": "stdout",
     "output_type": "stream",
     "text": [
      "Enter marks for student 1:\n",
      "Enter marks for student 2:\n",
      "\n",
      "Results:\n",
      "Student   Total Marks    Percentage     Grade     \n",
      "1         160.0          53.33          C         \n",
      "2         120.0          40.00          F         \n"
     ]
    }
   ],
   "source": [
    "def main():\n",
    "    students = get_number(\"Enter the number of students: \")\n",
    "    subjects = get_number(\"Enter the number of subjects: \")\n",
    "\n",
    "    marks = get_marks(students, subjects)\n",
    "    total_marks = calculate_totals(marks)\n",
    "    percentages = calculate_percentages(total_marks, subjects)\n",
    "    grades = assign_grades(percentages)\n",
    "    \n",
    "    display_results(students, total_marks, percentages, grades)\n",
    "\n",
    "if __name__ == \"__main__\":\n",
    "    main()"
   ]
  },
  {
   "cell_type": "code",
   "execution_count": null,
   "metadata": {},
   "outputs": [],
   "source": []
  }
 ],
 "metadata": {
  "kernelspec": {
   "display_name": "Python 3",
   "language": "python",
   "name": "python3"
  },
  "language_info": {
   "codemirror_mode": {
    "name": "ipython",
    "version": 3
   },
   "file_extension": ".py",
   "mimetype": "text/x-python",
   "name": "python",
   "nbconvert_exporter": "python",
   "pygments_lexer": "ipython3",
   "version": "3.10.6"
  }
 },
 "nbformat": 4,
 "nbformat_minor": 2
}
