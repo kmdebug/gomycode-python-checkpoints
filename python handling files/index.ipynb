{
 "cells": [
  {
   "cell_type": "code",
   "execution_count": 1,
   "metadata": {},
   "outputs": [
    {
     "name": "stdout",
     "output_type": "stream",
     "text": [
      "First 3 line(s) of python.txt:\n",
      "What is Python language?\n",
      "Python is a widely used high-level, general-purpose, interpreted, dynamic programming language.Its design philosophy emphasizes code readability, and its syntax allows programmers to express concepts in fewer lines of code than possible in\n",
      "languages such as C++ or Java.\n"
     ]
    }
   ],
   "source": [
    "def read_first_n_lines(filename, n):\n",
    "    with open(filename, 'r') as file:\n",
    "        lines = file.readlines()\n",
    "        \n",
    "        for line in lines[:n]:\n",
    "            print(line.strip())\n",
    "            \n",
    "filename = \"python.txt\"\n",
    "n = 3\n",
    "\n",
    "print(f\"First {n} line(s) of {filename}:\")\n",
    "\n",
    "read_first_n_lines(filename, n)"
   ]
  },
  {
   "cell_type": "code",
   "execution_count": 9,
   "metadata": {},
   "outputs": [
    {
     "name": "stdout",
     "output_type": "stream",
     "text": [
      "Last 3 lines of python.txt:\n",
      "Python is a widely used high-level, general-purpose, interpreted, dynamic programming language.Its design philosophy emphasizes code readability, and its syntax allows programmers to express concepts in fewer lines of code than possible in\n",
      "languages such as C++ or Java.\n",
      "Python supports multiple programming paradigms, including object-oriented, imperative and functional programming or procedural styles. It features a dynamic type system and automatic memory management and has a large and comprehensive standard library.The best way we learn anything is by practice and exercise questions. We  have started this section for those (beginner to intermediate) who are familiar with Python.\n"
     ]
    }
   ],
   "source": [
    "def read_last_n_lines(filename, n):\n",
    "    with open(filename, 'r') as file:\n",
    "        lines = file.readlines()\n",
    "        \n",
    "        for line in lines[-n:]:\n",
    "            print(line.strip())\n",
    "            \n",
    "filename = \"python.txt\"\n",
    "n = 3\n",
    "\n",
    "print(f\"Last {n} lines of {filename}:\")\n",
    "\n",
    "read_last_n_lines(filename, n)"
   ]
  },
  {
   "cell_type": "code",
   "execution_count": 5,
   "metadata": {},
   "outputs": [
    {
     "name": "stdout",
     "output_type": "stream",
     "text": [
      "Number of words in python.txt: 100\n"
     ]
    }
   ],
   "source": [
    "def count_words_in_file(filename):\n",
    "    with open(filename, 'r') as file:\n",
    "        content = file.read()\n",
    "        words = content.split()\n",
    "        \n",
    "        return len(words)\n",
    "    \n",
    "filename = \"python.txt\"\n",
    "count = count_words_in_file(filename)\n",
    "\n",
    "print(f\"Number of words in {filename}: {count}\")"
   ]
  }
 ],
 "metadata": {
  "kernelspec": {
   "display_name": "Python 3",
   "language": "python",
   "name": "python3"
  },
  "language_info": {
   "codemirror_mode": {
    "name": "ipython",
    "version": 3
   },
   "file_extension": ".py",
   "mimetype": "text/x-python",
   "name": "python",
   "nbconvert_exporter": "python",
   "pygments_lexer": "ipython3",
   "version": "3.10.6"
  }
 },
 "nbformat": 4,
 "nbformat_minor": 2
}
