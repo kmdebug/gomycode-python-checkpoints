{
 "cells": [
  {
   "cell_type": "code",
   "execution_count": 6,
   "metadata": {},
   "outputs": [],
   "source": [
    "import math"
   ]
  },
  {
   "cell_type": "markdown",
   "metadata": {},
   "source": [
    "## Problem 1\n",
    "\n",
    "Write a Python class named Point3D defined by x, y, and z. Define a method that returns (x, y ,z). This tells Python to represent this object in the following format: (x, y, z). Then create a variable named my_point containing a new instance of Point3D with x=1, y=2, and z=3 and print it."
   ]
  },
  {
   "cell_type": "code",
   "execution_count": 1,
   "metadata": {},
   "outputs": [
    {
     "name": "stdout",
     "output_type": "stream",
     "text": [
      "(1, 2, 3)\n"
     ]
    }
   ],
   "source": [
    "class Point3D:\n",
    "    def __init__(self, x, y, z):\n",
    "        self.x = x\n",
    "        self.y = y\n",
    "        self.z = z\n",
    "        \n",
    "    def coordinates(self):\n",
    "        return (self.x, self.y, self.z)\n",
    "    \n",
    "point = Point3D(x=1, y=2, z=3)\n",
    "\n",
    "print(point.coordinates())"
   ]
  },
  {
   "cell_type": "markdown",
   "metadata": {},
   "source": [
    "## Problem 2\n",
    "\n",
    "Write a Python class named Rectangle constructed by a length and width. Define two methods, area and perimeter, which will compute the area and the perimeter of the rectangle. Then create a variable named my_rectangle containing a new instance of Rectangle with width=3 and length = 4 and compute both area and perimeter ( the area is expected to be 3*4=12 and perimeter 2*(3+4)=14)."
   ]
  },
  {
   "cell_type": "code",
   "execution_count": 2,
   "metadata": {},
   "outputs": [
    {
     "name": "stdout",
     "output_type": "stream",
     "text": [
      "Area: 12\n",
      "Perimeter: 14\n"
     ]
    }
   ],
   "source": [
    "class Rectangle:\n",
    "    def __init__(self, length, width):\n",
    "        self.length = length\n",
    "        self.width = width\n",
    "        \n",
    "    def area(self):\n",
    "        return self.length * self.width\n",
    "    \n",
    "    def perimeter(self):\n",
    "        return 2 * (self.length + self.width)\n",
    "    \n",
    "rectangle = Rectangle(length=4, width=3)\n",
    "\n",
    "print(f\"Area: {rectangle.area()}\")\n",
    "print(f\"Perimeter: {rectangle.perimeter()}\")"
   ]
  },
  {
   "cell_type": "markdown",
   "metadata": {},
   "source": [
    "## Problem 3\n",
    "\n",
    "Write a Python  class named Circle constructed by its center O and radius r. Define two methods, area and perimeter, which will compute the area and the perimeter of the circle, and is Inside() method which allows you to test whether a point A(x, y) belongs to the circle C(O, r) or not."
   ]
  },
  {
   "cell_type": "code",
   "execution_count": 7,
   "metadata": {},
   "outputs": [
    {
     "name": "stdout",
     "output_type": "stream",
     "text": [
      "Area: 78.53981633974483\n",
      "Perimeter: 31.41592653589793\n",
      "Is point (3, 4) inside circle? True\n"
     ]
    }
   ],
   "source": [
    "class Circle:\n",
    "    def __init__(self, x, y, radius):\n",
    "        self.x = x\n",
    "        self.y = y\n",
    "        self.radius = radius\n",
    "        \n",
    "    def area(self):\n",
    "        return math.pi * self.radius ** 2\n",
    "    \n",
    "    def perimeter(self):\n",
    "        return 2 * math.pi * self.radius\n",
    "    \n",
    "    def is_inside(self, x, y):\n",
    "        dist = math.sqrt((x - self.x) ** 2 + (y - self.y) ** 2)\n",
    "        return dist <= self.radius\n",
    "\n",
    "circle = Circle(x=0, y=0, radius=5)\n",
    "\n",
    "print(f\"Area: {circle.area()}\")\n",
    "print(f\"Perimeter: {circle.perimeter()}\")\n",
    "print(f\"Is point (3, 4) inside circle? {circle.is_inside(3, 4)}\")"
   ]
  },
  {
   "cell_type": "markdown",
   "metadata": {},
   "source": [
    "## Problem 4\n",
    "\n",
    "Suppose we want to model a bank account with support for deposit and withdraw operations. Let’s create a Python class named Bank defined by its balance. Define two methods, deposit and withdraw, to compute the new amount of each operation."
   ]
  },
  {
   "cell_type": "code",
   "execution_count": 8,
   "metadata": {},
   "outputs": [
    {
     "name": "stdout",
     "output_type": "stream",
     "text": [
      "Current balance: 1000\n",
      "Balance after deposit: 1500\n",
      "Balance after withdrawl: 1300\n",
      "Insufficient balance.\n"
     ]
    }
   ],
   "source": [
    "class Bank:\n",
    "    def __init__(self, balance):\n",
    "        self.balance = balance\n",
    "        \n",
    "    def deposit(self, amount):\n",
    "        self.balance += amount\n",
    "        \n",
    "    def withdraw(self, amount):\n",
    "        if self.balance >= amount:\n",
    "            self.balance -= amount\n",
    "        else:\n",
    "            print(\"Insufficient balance.\")\n",
    "            \n",
    "account = Bank(balance=1000)\n",
    "\n",
    "print(f\"Current balance: {account.balance}\")\n",
    "\n",
    "account.deposit(500)\n",
    "\n",
    "print(f\"Balance after deposit: {account.balance}\")\n",
    "\n",
    "account.withdraw(200)\n",
    "\n",
    "print(f\"Balance after withdrawl: {account.balance}\")\n",
    "\n",
    "account.withdraw(3000)"
   ]
  }
 ],
 "metadata": {
  "kernelspec": {
   "display_name": "Python 3",
   "language": "python",
   "name": "python3"
  },
  "language_info": {
   "codemirror_mode": {
    "name": "ipython",
    "version": 3
   },
   "file_extension": ".py",
   "mimetype": "text/x-python",
   "name": "python",
   "nbconvert_exporter": "python",
   "pygments_lexer": "ipython3",
   "version": "3.10.6"
  }
 },
 "nbformat": 4,
 "nbformat_minor": 2
}
