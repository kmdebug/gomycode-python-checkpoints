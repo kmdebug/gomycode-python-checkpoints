{
 "cells": [
  {
   "cell_type": "code",
   "execution_count": 1,
   "metadata": {},
   "outputs": [],
   "source": [
    "def add(fnum, snum):\n",
    "    return fnum + snum"
   ]
  },
  {
   "cell_type": "code",
   "execution_count": 2,
   "metadata": {},
   "outputs": [],
   "source": [
    "def substract(fnum, snum):\n",
    "    return fnum - snum"
   ]
  },
  {
   "cell_type": "code",
   "execution_count": 3,
   "metadata": {},
   "outputs": [],
   "source": [
    "def multiply(fnum, snum):\n",
    "    return fnum * snum"
   ]
  },
  {
   "cell_type": "code",
   "execution_count": 4,
   "metadata": {},
   "outputs": [],
   "source": [
    "def divide(fnum, snum):\n",
    "    if snum == 0:\n",
    "        raise ValueError(\"Error: Division by zero is not allowed.\")\n",
    "    return fnum / snum"
   ]
  },
  {
   "cell_type": "code",
   "execution_count": 5,
   "metadata": {},
   "outputs": [],
   "source": [
    "def calculate(fnum, snum, operator):\n",
    "    if operator == '+':\n",
    "        return add(fnum, snum)\n",
    "    elif operator == '-':\n",
    "        return substract(fnum, snum)\n",
    "    elif operator == '*':\n",
    "        return multiply(fnum, snum)\n",
    "    elif operator == '/':\n",
    "        return divide(fnum, snum)\n",
    "    else:\n",
    "        raise ValueError(f\"Invalid operator: {operator}\")"
   ]
  },
  {
   "cell_type": "code",
   "execution_count": 13,
   "metadata": {},
   "outputs": [
    {
     "name": "stdout",
     "output_type": "stream",
     "text": [
      "50\n"
     ]
    }
   ],
   "source": [
    "if __name__ == \"__main__\":\n",
    "    try:\n",
    "        fnum = int(input('Enter the first number: '))\n",
    "        snum = int(input('Enter the second number: '))\n",
    "        operator = input('Enter the operator (+, -, *, /): ')\n",
    "        \n",
    "        result = calculate(fnum, snum, operator)\n",
    "        \n",
    "        print(result)\n",
    "    except ValueError as e:\n",
    "        print(e)"
   ]
  }
 ],
 "metadata": {
  "kernelspec": {
   "display_name": "Python 3",
   "language": "python",
   "name": "python3"
  },
  "language_info": {
   "codemirror_mode": {
    "name": "ipython",
    "version": 3
   },
   "file_extension": ".py",
   "mimetype": "text/x-python",
   "name": "python",
   "nbconvert_exporter": "python",
   "pygments_lexer": "ipython3",
   "version": "3.10.6"
  }
 },
 "nbformat": 4,
 "nbformat_minor": 2
}
